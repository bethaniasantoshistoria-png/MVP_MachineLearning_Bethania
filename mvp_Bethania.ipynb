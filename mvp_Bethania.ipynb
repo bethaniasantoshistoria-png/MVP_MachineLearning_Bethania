{
 "cells": [
  {
   "cell_type": "markdown",
   "id": "b1b1ccab",
   "metadata": {},
   "source": [
    "\n",
    "# MVP — Machine Learning\n",
    "### Disciplina: Ciência de Dados e Analytics\n",
    "### Aluna: Bethânia Alves\n",
    "### Professor: [Nome do professor]\n",
    "### Turma: [Identificação da turma]\n",
    "### Data: [Data de entrega]\n",
    "\n",
    "---\n"
   ]
  },
  {
   "cell_type": "markdown",
   "id": "ab49d688",
   "metadata": {},
   "source": [
    "\n",
    "# MVP — Classificação de Churn (Telco Customer Churn)\n",
    "**Tipo de problema:** Classificação binária  \n",
    "**Domínio:** Dados tabulares (negócios/telecom)  \n",
    "**Execução:** Google Colab (instala dependências automaticamente)  \n",
    "**Dataset (URL pública):** \n",
    "- `https://raw.githubusercontent.com/blastchar/telco-customer-churn/master/WA_Fn-UseC_-Telco-Customer-Churn.csv`\n",
    "\n",
    "> **TL;DR**: Construímos um pipeline de ML para prever `Churn` usando **baseline**, **Logistic Regression**, **Random Forest** e **XGBoost**, com validação estratificada, **tuning** de hiperparâmetros, métricas (ROC-AUC, PR-AUC, F1, Recall, MCC) e análise de importância de atributos (permutações). O notebook segue boas práticas (seeds, pipelines, sem *data leakage*) e pode ser executado de ponta a ponta.\n"
   ]
  }
 ],
 "metadata": {},
 "nbformat": 4,
 "nbformat_minor": 5
}
